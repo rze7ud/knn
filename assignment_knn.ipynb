{
  "cells": [
    {
      "cell_type": "markdown",
      "id": "f7ef20f0-722f-4240-8a79-437d4a3b8832",
      "metadata": {
        "id": "f7ef20f0-722f-4240-8a79-437d4a3b8832"
      },
      "source": [
        "## Assignment 3: $k$ Nearest Neighbor\n",
        "\n",
        "**Do two questions.**\n",
        "\n",
        "`! git clone https://github.com/DS3001/knn`"
      ]
    },
    {
      "cell_type": "code",
      "source": [
        "! git clone https://github.com/rze7ud/knn\n",
        "import numpy as np\n",
        "import pandas as pd\n",
        "import matplotlib.pyplot as plt\n",
        "import seaborn as sns"
      ],
      "metadata": {
        "id": "5TAfgZSBnI4u",
        "outputId": "5a204b1d-db75-4963-aac8-74ecba42c749",
        "colab": {
          "base_uri": "https://localhost:8080/"
        }
      },
      "id": "5TAfgZSBnI4u",
      "execution_count": 2,
      "outputs": [
        {
          "output_type": "stream",
          "name": "stdout",
          "text": [
            "Cloning into 'knn'...\n",
            "remote: Enumerating objects: 68, done.\u001b[K\n",
            "remote: Counting objects: 100% (29/29), done.\u001b[K\n",
            "remote: Compressing objects: 100% (21/21), done.\u001b[K\n",
            "remote: Total 68 (delta 20), reused 8 (delta 8), pack-reused 39 (from 1)\u001b[K\n",
            "Receiving objects: 100% (68/68), 13.54 MiB | 14.83 MiB/s, done.\n",
            "Resolving deltas: 100% (25/25), done.\n"
          ]
        }
      ]
    },
    {
      "cell_type": "markdown",
      "id": "5d9212c0",
      "metadata": {
        "id": "5d9212c0"
      },
      "source": [
        "**Q0.**\n",
        "1. What is the difference between regression and classification?\n",
        "2. What is a confusion table? What does it help us understand about a model's performance?\n",
        "3. What does the SSE quantify about a particular model?\n",
        "4. What are overfitting and underfitting?\n",
        "5. Why does splitting the data into training and testing sets, and choosing $k$ by evaluating accuracy or SSE on the test set, improve model performance?\n",
        "6. With classification, we can report a class label as a prediction or a probability distribution over class labels. Please explain the strengths and weaknesses of each approach."
      ]
    },
    {
      "cell_type": "markdown",
      "source": [
        "# Question 0:\n",
        "1. The difference between regression and classification is that regression is used on numerical values while classification is used on categorical variables.\n",
        "2. A confusion table compares actual and predicted values to see which are correct and which create errors such as false positives and false negatives. This helps us understand which predictions are created when the model is correct or makes mistakes.\n",
        "3. The Sum of Squared Errors quantifies how much the predictions vary from the actual values by summing the squared differences so we can find out how accurate the predictions are.\n",
        "4. Overfitting happens when there are too many variables that a model is based on and therefore becomes too complex and fits the training data too well. Underfitting happens when there isn't enough complexity in the model so it isn't able to accurately make predictions on the training or test sets.\n",
        "5. When you split data into two separate sets, you create a model based on the training set and reserve the testing set to make sure that the model works on data that is hasn't seen before to avoid overfitting.\n",
        "6. Class label predictions have the benefits of simplicity and ease of interpretation, but they don't give any information about the confidence of the prediction, therefore incorrect predictions are all treated the same. Probability distribution shows information surrounding the certainty of the model, but it may not be necessary for all applications."
      ],
      "metadata": {
        "id": "bNwkYQX8n0G3"
      },
      "id": "bNwkYQX8n0G3"
    },
    {
      "cell_type": "markdown",
      "id": "194455fa",
      "metadata": {
        "id": "194455fa"
      },
      "source": [
        "**Q1.** This question is a case study for $k$ nearest neighbor regression, using the `USA_cars_datasets.csv` data.\n",
        "\n",
        "The target variable `y` is `price` and the features are `year` and `mileage`.\n",
        "\n",
        "1. Load the `./data/USA_cars_datasets.csv`. Keep the following variables and drop the rest: `price`, `year`, `mileage`. Are there any `NA`'s to handle? Look at the head and dimensions of the data.\n",
        "2. Maxmin normalize `year` and `mileage`.\n",
        "3. Split the sample into ~80% for training and ~20% for evaluation.\n",
        "4. Use the $k$NN algorithm and the training data to predict `price` using `year` and `mileage` for the test set for $k=3,10,25,50,100,300$. For each value of $k$, compute the mean squared error and print a scatterplot showing the test value plotted against the predicted value. What patterns do you notice as you increase $k$?\n",
        "5. Determine the optimal $k$ for these data.\n",
        "6. Describe what happened in the plots of predicted versus actual prices as $k$ varied, taking your answer into part 6 into account. (Hint: Use the words \"underfitting\" and \"overfitting\".)"
      ]
    },
    {
      "cell_type": "markdown",
      "id": "287b8586",
      "metadata": {
        "id": "287b8586"
      },
      "source": [
        "**Q2.** This is a case study on $k$ nearest neighbor classification, using the `animals.csv` data.\n",
        "\n",
        "The data consist of a label, `class`, taking integer values 1 to 7, the name of the species, `animal`, and 16 characteristics of the animal, including `hair`, `feathers`, `milk`, `eggs`, `airborne`, and so on.\n",
        "\n",
        "1. Load the data. For each of the seven class labels, print the values in the class and get a sense of what is included in that group. Perform some other EDA: How big are the classes? How much variation is there in each of the features/covariates? Which variables do you think will best predict which class?\n",
        "2. Split the data 50/50 into training and test/validation sets. (The smaller the data are, the more equal the split should be, in my experience: Otherwise, all of the members of one class end up in the training or test data, and the model falls apart.)\n",
        "3. Using all of the variables, build a $k$-NN classifier. Explain how you select $k$.\n",
        "4. Print a confusion table for the optimal model, comparing predicted and actual class label on the test set. How accurate it is? Can you interpret why mistakes are made across groups?\n",
        "5. Use only `milk`, `aquatic`, and `airborne` to train a new $k$-NN classifier. Print your confusion table. Mine does not predict all of the classes, only a subset of them. To see the underlying probabilities, use `model.predict_proba(X_test.values)` to predict probabilities rather than labels for your `X_test` test data for your fitted `model`. Are all of the classes represented? Explain your results."
      ]
    },
    {
      "cell_type": "code",
      "source": [
        "# Question 2\n",
        "# 2.1\n",
        "zoo = pd.read_csv('/content/knn/data/zoo.csv')\n",
        "print(zoo.head())\n",
        "print(zoo.shape)\n",
        "\n",
        "groups = df.groupby('class')['animal'].unique()\n",
        "for class_label, animals in groups.items():\n",
        "    print(f\"Class {class_label}: {list(animals)}\")\n",
        "\n",
        "plt.hist(df['class'], bins=range(1, df['class'].max() + 2), align='left', rwidth=1)\n",
        "plt.title('Class labels')\n",
        "plt.xlabel('Class')\n",
        "plt.show()"
      ],
      "metadata": {
        "id": "pXNeHt3gAof6",
        "outputId": "ee01eafe-5f63-4574-ba96-423ab0f6e0c6",
        "colab": {
          "base_uri": "https://localhost:8080/",
          "height": 867
        }
      },
      "id": "pXNeHt3gAof6",
      "execution_count": 16,
      "outputs": [
        {
          "output_type": "stream",
          "name": "stdout",
          "text": [
            "     animal  hair  feathers  eggs  milk  airborne  aquatic  predator  toothed  \\\n",
            "0  aardvark     1         0     0     1         0        0         1        1   \n",
            "1  antelope     1         0     0     1         0        0         0        1   \n",
            "2      bass     0         0     1     0         0        1         1        1   \n",
            "3      bear     1         0     0     1         0        0         1        1   \n",
            "4      boar     1         0     0     1         0        0         1        1   \n",
            "\n",
            "   backbone  breathes  venomous  fins  legs  tail  domestic  catsize  class  \n",
            "0         1         1         0     0     4     0         0        1      1  \n",
            "1         1         1         0     0     4     1         0        1      1  \n",
            "2         1         0         0     1     0     1         0        0      4  \n",
            "3         1         1         0     0     4     0         0        1      1  \n",
            "4         1         1         0     0     4     1         0        1      1  \n",
            "(101, 18)\n",
            "Class 1: ['aardvark', 'antelope', 'bear', 'boar', 'buffalo', 'calf', 'cavy', 'cheetah', 'deer', 'dolphin', 'elephant', 'fruitbat', 'giraffe', 'girl', 'goat', 'gorilla', 'hamster', 'hare', 'leopard', 'lion', 'lynx', 'mink', 'mole', 'mongoose', 'opossum', 'oryx', 'platypus', 'polecat', 'pony', 'porpoise', 'puma', 'pussycat', 'raccoon', 'reindeer', 'seal', 'sealion', 'squirrel', 'vampire', 'vole', 'wallaby', 'wolf']\n",
            "Class 2: ['chicken', 'crow', 'dove', 'duck', 'flamingo', 'gull', 'hawk', 'kiwi', 'lark', 'ostrich', 'parakeet', 'penguin', 'pheasant', 'rhea', 'skimmer', 'skua', 'sparrow', 'swan', 'vulture', 'wren']\n",
            "Class 3: ['pitviper', 'seasnake', 'slowworm', 'tortoise', 'tuatara']\n",
            "Class 4: ['bass', 'carp', 'catfish', 'chub', 'dogfish', 'haddock', 'herring', 'pike', 'piranha', 'seahorse', 'sole', 'stingray', 'tuna']\n",
            "Class 5: ['frog', 'newt', 'toad']\n",
            "Class 6: ['flea', 'gnat', 'honeybee', 'housefly', 'ladybird', 'moth', 'termite', 'wasp']\n",
            "Class 7: ['clam', 'crab', 'crayfish', 'lobster', 'octopus', 'scorpion', 'seawasp', 'slug', 'starfish', 'worm']\n"
          ]
        },
        {
          "output_type": "display_data",
          "data": {
            "text/plain": [
              "<Figure size 640x480 with 1 Axes>"
            ],
            "image/png": "[encoded data removed]"
          },
          "metadata": {}
        }
      ]
    },
    {
      "cell_type": "markdown",
      "source": [
        "# 2.1\n",
        "1. Mammals - hair, milk\n",
        "2. Birds - feathers, eggs, airborne\n",
        "3. Reptiles - eggs, legs\n",
        "4. Fish - aquatic, breathes, fins\n",
        "5. Amphibians - aquatic, eggs, tail, legs\n",
        "6. Insects - airborne, eggs, backbone\n",
        "7. Invertibrates - backbones"
      ],
      "metadata": {
        "id": "m-VrOQmbDPqk"
      },
      "id": "m-VrOQmbDPqk"
    },
    {
      "cell_type": "code",
      "source": [
        "# 2.2\n",
        "x_vars = zoo.columns.tolist()\n",
        "y = zoo['class']\n",
        "x_vars.remove('animal')\n",
        "x_vars.remove('class')\n",
        "X = zoo.loc[:, x_vars]\n",
        "X.describe()\n",
        "\n",
        "from sklearn.model_selection import train_test_split\n",
        "X_train, X_test, y_train, y_test = train_test_split(X, y, test_size=.5, random_state=2)"
      ],
      "metadata": {
        "id": "sqk6siYAFohL"
      },
      "id": "sqk6siYAFohL",
      "execution_count": 32,
      "outputs": []
    },
    {
      "cell_type": "code",
      "source": [
        "# 2.3\n",
        "from sklearn.neighbors import KNeighborsClassifier\n",
        "from sklearn.metrics import accuracy_score\n",
        "\n",
        "N_train = len(y_train)\n",
        "N_test = len(y_test)\n",
        "k_max = N_train-1\n",
        "accuracies = []\n",
        "\n",
        "for k in range(1, k_max+1):\n",
        "    model = KNeighborsClassifier(n_neighbors=k)\n",
        "    model.fit(X_train.values,y_train)\n",
        "    y_prediction = model.predict(X_test.values)\n",
        "    accuracies.append(accuracy_score(y_test, y_prediction))\n",
        "\n",
        "optimal_accuracy = max(accuracies)\n",
        "optimal_k = accuracies.index(optimal_accuracy) + 1\n",
        "print(\"Optimal Accuracy:\", optimal_accuracy)\n",
        "print(\"Optimal k:\", optimal_k)\n",
        "\n",
        "plt.plot(range(1, k_max + 1), accuracies, label='Accuracy')\n",
        "plt.xlabel('k')\n",
        "plt.ylabel('Accuracy')\n",
        "plt.title('Test Accuracy vs. k')\n",
        "plt.show()"
      ],
      "metadata": {
        "id": "auLsRqxfGuzC",
        "outputId": "5a0f28d4-3d43-4570-85c9-91e165bb1842",
        "colab": {
          "base_uri": "https://localhost:8080/",
          "height": 508
        }
      },
      "id": "auLsRqxfGuzC",
      "execution_count": 33,
      "outputs": [
        {
          "output_type": "stream",
          "name": "stdout",
          "text": [
            "Optimal Accuracy: 0.9411764705882353\n",
            "Optimal k: 1\n"
          ]
        },
        {
          "output_type": "display_data",
          "data": {
            "text/plain": [
              "<Figure size 640x480 with 1 Axes>"
            ],
            "image/png": "[encoded data removed]"
          },
          "metadata": {}
        }
      ]
    },
    {
      "cell_type": "code",
      "source": [
        "# 2.4\n",
        "model = KNeighborsClassifier(n_neighbors=optimal_k)\n",
        "fitted_model = model.fit(X_train.values, y_train)\n",
        "y_hat = fitted_model.predict(X_test.values)\n",
        "\n",
        "print('All variables, confusion table:\\n', pd.crosstab(y_hat, y_test))\n",
        "print(\"Accuracy:\", 48/51)"
      ],
      "metadata": {
        "id": "peyzYJZTLfOu",
        "outputId": "e9d1e0a1-4060-4b34-8380-b8ad23403421",
        "colab": {
          "base_uri": "https://localhost:8080/"
        }
      },
      "id": "peyzYJZTLfOu",
      "execution_count": 46,
      "outputs": [
        {
          "output_type": "stream",
          "name": "stdout",
          "text": [
            "All variables, confusion table:\n",
            " class   1   2  3  4  5  6  7\n",
            "row_0                       \n",
            "1      23   0  0  0  0  0  0\n",
            "2       0  10  2  0  0  3  1\n",
            "4       0   0  0  6  3  0  3\n",
            "Accuracy: 0.9411764705882353\n"
          ]
        }
      ]
    },
    {
      "cell_type": "markdown",
      "source": [
        "# 2.4\n",
        "This model seems to be very accurate, with only 3 errors being made: 1 with 2 (twice) and 3 with 4. They probably have similar overlapping features so the model made the wrong prediction."
      ],
      "metadata": {
        "id": "zrIVU-10TQ56"
      },
      "id": "zrIVU-10TQ56"
    },
    {
      "cell_type": "code",
      "source": [
        "# 2.5\n",
        "x_vars = ['milk','aquatic','airborne']\n",
        "y = zoo['class']\n",
        "X = zoo.loc[:, x_vars]\n",
        "X.describe()\n",
        "\n",
        "X_train, X_test, y_train, y_test = train_test_split(X, y, test_size=.5, random_state=2)\n",
        "\n",
        "N_train = len(y_train)\n",
        "N_test = len(y_test)\n",
        "k_max = N_train-1\n",
        "accuracies = []\n",
        "\n",
        "for k in range(1, k_max+1):\n",
        "    model = KNeighborsClassifier(n_neighbors=k)\n",
        "    model.fit(X_train.values,y_train)\n",
        "    y_prediction = model.predict(X_test.values)\n",
        "    accuracies.append(accuracy_score(y_test, y_prediction))\n",
        "\n",
        "optimal_accuracy = max(accuracies)\n",
        "optimal_k = accuracies.index(optimal_accuracy) + 1\n",
        "print(\"Optimal Accuracy:\", optimal_accuracy)\n",
        "print(\"Optimal k:\", optimal_k)\n",
        "\n",
        "plt.plot(range(1, k_max + 1), accuracies, label='Accuracy')\n",
        "plt.xlabel('k')\n",
        "plt.ylabel('Accuracy')\n",
        "plt.title('Test Accuracy vs. k')\n",
        "plt.show()\n",
        "\n",
        "model = KNeighborsClassifier(n_neighbors=optimal_k)\n",
        "fitted_model = model.fit(X_train.values, y_train)\n",
        "y_hat = fitted_model.predict(X_test.values)\n",
        "\n",
        "print('All variables, confusion table:\\n', pd.crosstab(y_hat, y_test))\n",
        "\n",
        "print(model.predict_proba(X_test.values))"
      ],
      "metadata": {
        "id": "Hmo6jF7BN9qQ",
        "outputId": "6ca2eb9b-eb45-4f2b-cdb1-33a859153f7d",
        "colab": {
          "base_uri": "https://localhost:8080/",
          "height": 1000
        }
      },
      "id": "Hmo6jF7BN9qQ",
      "execution_count": 45,
      "outputs": [
        {
          "output_type": "stream",
          "name": "stdout",
          "text": [
            "Optimal Accuracy: 0.7647058823529411\n",
            "Optimal k: 3\n"
          ]
        },
        {
          "output_type": "display_data",
          "data": {
            "text/plain": [
              "<Figure size 640x480 with 1 Axes>"
            ],
            "image/png": "[encoded data removed]"
          },
          "metadata": {}
        },
        {
          "output_type": "stream",
          "name": "stdout",
          "text": [
            "All variables, confusion table:\n",
            " class   1   2  3  4  5  6  7\n",
            "row_0                       \n",
            "1      23   0  0  0  0  0  0\n",
            "2       0  10  2  0  0  3  1\n",
            "4       0   0  0  6  3  0  3\n",
            "[[0.         0.66666667 0.         0.         0.         0.33333333\n",
            "  0.        ]\n",
            " [0.         0.66666667 0.         0.         0.         0.33333333\n",
            "  0.        ]\n",
            " [0.         0.66666667 0.         0.         0.         0.33333333\n",
            "  0.        ]\n",
            " [0.         0.33333333 0.33333333 0.         0.         0.\n",
            "  0.33333333]\n",
            " [0.         0.66666667 0.         0.         0.         0.33333333\n",
            "  0.        ]\n",
            " [0.         0.66666667 0.         0.         0.         0.33333333\n",
            "  0.        ]\n",
            " [0.         0.         0.33333333 0.66666667 0.         0.\n",
            "  0.        ]\n",
            " [0.66666667 0.         0.         0.         0.         0.33333333\n",
            "  0.        ]\n",
            " [1.         0.         0.         0.         0.         0.\n",
            "  0.        ]\n",
            " [0.         0.33333333 0.33333333 0.         0.         0.\n",
            "  0.33333333]\n",
            " [0.         0.         0.33333333 0.66666667 0.         0.\n",
            "  0.        ]\n",
            " [0.66666667 0.         0.         0.         0.         0.33333333\n",
            "  0.        ]\n",
            " [0.         0.         0.33333333 0.66666667 0.         0.\n",
            "  0.        ]\n",
            " [0.         0.         0.33333333 0.66666667 0.         0.\n",
            "  0.        ]\n",
            " [1.         0.         0.         0.         0.         0.\n",
            "  0.        ]\n",
            " [0.         0.66666667 0.         0.         0.         0.33333333\n",
            "  0.        ]\n",
            " [1.         0.         0.         0.         0.         0.\n",
            "  0.        ]\n",
            " [1.         0.         0.         0.         0.         0.\n",
            "  0.        ]\n",
            " [0.         0.66666667 0.         0.         0.         0.33333333\n",
            "  0.        ]\n",
            " [1.         0.         0.         0.         0.         0.\n",
            "  0.        ]\n",
            " [1.         0.         0.         0.         0.         0.\n",
            "  0.        ]\n",
            " [0.         0.66666667 0.         0.         0.         0.33333333\n",
            "  0.        ]\n",
            " [0.         0.         0.33333333 0.66666667 0.         0.\n",
            "  0.        ]\n",
            " [1.         0.         0.         0.         0.         0.\n",
            "  0.        ]\n",
            " [0.         0.33333333 0.33333333 0.         0.         0.\n",
            "  0.33333333]\n",
            " [1.         0.         0.         0.         0.         0.\n",
            "  0.        ]\n",
            " [0.         0.         0.33333333 0.66666667 0.         0.\n",
            "  0.        ]\n",
            " [1.         0.         0.         0.         0.         0.\n",
            "  0.        ]\n",
            " [0.         0.         0.33333333 0.66666667 0.         0.\n",
            "  0.        ]\n",
            " [0.         0.33333333 0.33333333 0.         0.         0.\n",
            "  0.33333333]\n",
            " [1.         0.         0.         0.         0.         0.\n",
            "  0.        ]\n",
            " [1.         0.         0.         0.         0.         0.\n",
            "  0.        ]\n",
            " [0.         0.         0.33333333 0.66666667 0.         0.\n",
            "  0.        ]\n",
            " [0.         0.33333333 0.33333333 0.         0.         0.\n",
            "  0.33333333]\n",
            " [1.         0.         0.         0.         0.         0.\n",
            "  0.        ]\n",
            " [0.         0.         0.33333333 0.66666667 0.         0.\n",
            "  0.        ]\n",
            " [1.         0.         0.         0.         0.         0.\n",
            "  0.        ]\n",
            " [1.         0.         0.         0.         0.         0.\n",
            "  0.        ]\n",
            " [0.         0.66666667 0.         0.         0.         0.33333333\n",
            "  0.        ]\n",
            " [0.         0.         0.33333333 0.66666667 0.         0.\n",
            "  0.        ]\n",
            " [1.         0.         0.         0.         0.         0.\n",
            "  0.        ]\n",
            " [0.         0.         0.33333333 0.66666667 0.         0.\n",
            "  0.        ]\n",
            " [1.         0.         0.         0.         0.         0.\n",
            "  0.        ]\n",
            " [1.         0.         0.         0.         0.         0.\n",
            "  0.        ]\n",
            " [1.         0.         0.         0.         0.         0.\n",
            "  0.        ]\n",
            " [1.         0.         0.         0.         0.         0.\n",
            "  0.        ]\n",
            " [1.         0.         0.         0.         0.         0.\n",
            "  0.        ]\n",
            " [1.         0.         0.         0.         0.         0.\n",
            "  0.        ]\n",
            " [0.         0.         0.33333333 0.66666667 0.         0.\n",
            "  0.        ]\n",
            " [0.         0.33333333 0.33333333 0.         0.         0.\n",
            "  0.33333333]\n",
            " [0.         0.33333333 0.33333333 0.         0.         0.\n",
            "  0.33333333]]\n"
          ]
        }
      ]
    },
    {
      "cell_type": "markdown",
      "source": [
        "# 2.5\n",
        "Not all of the classes were represented in the confusion table. Only classes 1, 2 and 4 had class label predictions. However, the other classes had a non-zero probablility but we were unable to see this with the class label predictions."
      ],
      "metadata": {
        "id": "ErU-0MKoTqQz"
      },
      "id": "ErU-0MKoTqQz"
    },
    {
      "cell_type": "markdown",
      "id": "c008c35c",
      "metadata": {
        "id": "c008c35c"
      },
      "source": [
        "**Q3.** This question is a case study for $k$ nearest neighbor regression, using the `cars_env.csv` data.\n",
        "\n",
        "The variables that go into the model are one more dimension to think about: We can use the train-test split approach to pick the variables that go into the model, not just the number of neighbors.\n",
        "\n",
        "1. Load the data. We're going to use `footprint`, `baseline mpg`, `baseline price`, and `baseline sales`. Prepare some EDA results for these variables: describe tables, histograms/kernel density plots, scatterplots, etc. I renamed these variables to `footprint`, `mpg`, `price`, and `sales` to save time.\n",
        "2. Maxmin normalize `footprint`, `mpg`, and `price`. These will be our features/covariates $X$. Our target/dependent/outcome variable $y$ will be sales. Does it make sense to normalize $y$?\n",
        "3. Make a 30% train-test split of the data into 30% test/validation data and 70% training data.\n",
        "4. Using all three covariates --- `footprint`, `mpg`, and `price` --- what's the best $k$ to use? What SSE is achieved on the test set? To answer these questions, evalute the sum of squared error on the test set for a reasonable range of values of $k$ (perhaps 2 to 150), and find the $k$ with the lowest SSE.\n",
        "5. Do part 4 again, for each pair of variables: `footprint` and `mpg`, `footprint` and `price`, `mpg` and `price`.\n",
        "6. Which set of variables from parts 4 and 5 does the best, in terms of minimizing SSE at the optimal choice of neighbors? Explain."
      ]
    },
    {
      "cell_type": "markdown",
      "id": "6a0ff5e3",
      "metadata": {
        "id": "6a0ff5e3"
      },
      "source": [
        "**Q4.** This is a case study on $k$ nearest neighbor classification, using the `land_mines.csv` data.\n",
        "\n",
        "The data consists of a label, `mine_type`, taking integer values 1 to 5, and three properties of the mine, `voltage`, `height` and `soil`. We want to predict the kind of mine from data about it. Imagine working for the DOD or a humanitarian aid agency, trying to help people remove land mines more safely.\n",
        "\n",
        "1. Load the data. Perform some EDA, summarizing the target label and the features.\n",
        "2. Split the sample 50/50 into training and test/validation sets. (The smaller the data are, the more equal the split should be, in my experience: Otherwise, all of the members of one class end up in the training or test data, and the model falls apart.)\n",
        "3. Build a $k$-NN classifier. Explain how you select $k$.\n",
        "4. Print a confusion table for the optimal model, comparing predicted and actual class label on the test set. How accurate is it? Where is performance more or less accurate?\n",
        "5. Notice that you can have a lot of accurate predictions for a given type of mine, but still make a lot of mistakes. Please explain how you'd advise someone to actually use this predictive model in practice, given the errors that it tends to make."
      ]
    },
    {
      "cell_type": "markdown",
      "id": "010b57f7-bf4f-4494-b54c-49c4f3ae3ab9",
      "metadata": {
        "id": "010b57f7-bf4f-4494-b54c-49c4f3ae3ab9"
      },
      "source": [
        "**Q5.** This question is a case study for $k$ nearest neighbor regression, using the `heart_failure_clinical_records_dataset.csv` data.\n",
        "\n",
        "The data for the question include:\n",
        "\n",
        "- age: age of the patient (years)\n",
        "- anaemia: decrease of red blood cells or hemoglobin (boolean)\n",
        "- high blood pressure: if the patient has hypertension (boolean)\n",
        "- creatinine phosphokinase (CPK): level of the CPK enzyme in the blood (mcg/L)\n",
        "- diabetes: if the patient has diabetes (boolean)\n",
        "- ejection fraction: percentage of blood leaving the heart at each contraction (percentage)\n",
        "- platelets: platelets in the blood (kiloplatelets/mL)\n",
        "- sex: woman or man (binary)\n",
        "- serum creatinine: level of serum creatinine in the blood (mg/dL)\n",
        "- serum sodium: level of serum sodium in the blood (mEq/L)\n",
        "- smoking: if the patient smokes or not (boolean)\n",
        "- time: follow-up period (days)\n",
        "- death event: if the patient deceased during the follow-up period (boolean)\n",
        "\n",
        "1. Load the `./data/heart_failure_clinical_records_dataset.csv`. Are there any `NA`'s to handle? use `.drop()` to remove `time` from the dataframe.\n",
        "2. Make a correlation matrix. What variables are strongly associated with a death event?\n",
        "3. For the dummy variables `anaemia`, `diabetes`, `high_blood_pressure`, `sex`, and `smoking`, compute a summary table of `DEATH_EVENT` grouped by the variable. For which variables does a higher proportion of the population die when the variable takes the value 1 rather than 0?\n",
        "4. On the basis of your answers from 2 and 3, build a matrix $X$ of the variables you think are most predictive of a death, and a variable $y$ equal to `DEATH_EVENT`.\n",
        "5. Maxmin normalize all of the variables in `X`.\n",
        "6. Split the sample into ~80% for training and ~20% for evaluation. (Try to use the same train/test split for the whole question, so that you're comparing apples to apples in the questions below.).\n",
        "7. Determine the optimal number of neighbors for a $k$NN regression for the variables you selected.\n",
        "8. OK, do steps 5 through 7 again, but use all of the variables (except `time`). Which model has a lower Sum of Squared Error? Which would you prefer to use in practice, if you had to predict `DEATH_EVENT`s? If you play with the selection of variables, how much does the SSE change for your fitted model on the test data? Are more variables always better? Explain your findings."
      ]
    },
    {
      "cell_type": "markdown",
      "id": "8d193de6",
      "metadata": {
        "vscode": {
          "languageId": "plaintext"
        },
        "id": "8d193de6"
      },
      "source": [
        "**Q6.** This is a case study on $k$ nearest neighbor regression and imputation, using the `airbnb_hw.csv` data.\n",
        "\n",
        "There are 30,478 observations, but only 22,155 ratings. We're going to build a kNN regressor to impute missing values. This is a common task, and illustrates one way you can use kNN in the future even when you have more advanced models available.\n",
        "\n",
        "1. Load the `airbnb_hw.csv` data with Pandas. We're only going to use `Review Scores Rating`, `Price`, and `Beds`, so use `.loc` to reduce the dataframe to those variables.\n",
        "2. Set use `.isnull()` to select the subset of the dataframe with missing review values. Set those aside in a different dataframe. We'll make predictions about them later.\n",
        "3. Use `df = df.dropna(axis = 0, how = 'any')` to eliminate any observations with missing values/NA's from the dataframe.\n",
        "4. For the complete cases, create a $k$-NN model that uses the variables `Price` and `Beds` to predict `Review Scores Rating`. How do you choose $k$? (Hint: Train/test split, iterate over reasonable values of $k$ and find a value that minimizes SSE on the test split using predictions from the training set.)\n",
        "5. Predict the missing ratings.\n",
        "6. Do a kernel density plot of the training ratings and the predicted missing ratings. Do they look similar or not? Explain why."
      ]
    }
  ],
  "metadata": {
    "kernelspec": {
      "display_name": "Python 3 (ipykernel)",
      "language": "python",
      "name": "python3"
    },
    "language_info": {
      "codemirror_mode": {
        "name": "ipython",
        "version": 3
      },
      "file_extension": ".py",
      "mimetype": "text/x-python",
      "name": "python",
      "nbconvert_exporter": "python",
      "pygments_lexer": "ipython3",
      "version": "3.10.4"
    },
    "colab": {
      "provenance": []
    }
  },
  "nbformat": 4,
  "nbformat_minor": 5
}